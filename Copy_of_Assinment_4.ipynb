{
  "nbformat": 4,
  "nbformat_minor": 0,
  "metadata": {
    "colab": {
      "provenance": [],
      "authorship_tag": "ABX9TyOrBLEWO1mMCcVvt/4ds303",
      "include_colab_link": true
    },
    "kernelspec": {
      "name": "python3",
      "display_name": "Python 3"
    },
    "language_info": {
      "name": "python"
    }
  },
  "cells": [
    {
      "cell_type": "markdown",
      "metadata": {
        "id": "view-in-github",
        "colab_type": "text"
      },
      "source": [
        "<a href=\"https://colab.research.google.com/github/Swagaat/HW-CS250/blob/main/Copy_of_Assinment_4.ipynb\" target=\"_parent\"><img src=\"https://colab.research.google.com/assets/colab-badge.svg\" alt=\"Open In Colab\"/></a>"
      ]
    },
    {
      "cell_type": "code",
      "execution_count": null,
      "metadata": {
        "id": "y29ZeT47kd2S",
        "colab": {
          "base_uri": "https://localhost:8080/"
        },
        "outputId": "752a4c1a-491b-439f-a5e7-f6297c2c3fc1"
      },
      "outputs": [
        {
          "output_type": "stream",
          "name": "stdout",
          "text": [
            "1\n",
            "2\n",
            "3\n",
            "funny\n",
            "5\n",
            "buzz\n",
            "7\n",
            "funny\n",
            "9\n",
            "10\n",
            "11\n",
            "funnybuzz\n",
            "13\n",
            "14\n",
            "15\n",
            "funny\n"
          ]
        }
      ],
      "source": [
        "def funnybuzz(n):\n",
        "  for i in range (1,17):\n",
        "    if (i % 4 == 0 and i % 6 !=0):\n",
        "      print(\"funny\")\n",
        "      continue\n",
        "    elif (i % 6 == 0 and i % 4 !=0):\n",
        "      print(\"buzz\")\n",
        "      continue\n",
        "    elif (i % 4 == 0 and i %6 ==0):\n",
        "      print(\"funnybuzz\")\n",
        "      continue\n",
        "    else:\n",
        "        print(i)\n",
        "\n",
        "funnybuzz(16)"
      ]
    },
    {
      "cell_type": "code",
      "source": [
        "def mul_sum(m,n,limit):\n",
        "   sum=0\n",
        "   for i in range(0,limit):\n",
        "    if (i % m==0) or (i % n==0):\n",
        "      sum+=i\n",
        "   return sum \n",
        " \n",
        "print(mul_sum(3,5,10))\n",
        "print(mul_sum(3,7,1000))"
      ],
      "metadata": {
        "id": "Ur1wgKCamEIA",
        "outputId": "03fc9f5d-dc14-4e39-b1b9-6d1614e05f73",
        "colab": {
          "base_uri": "https://localhost:8080/"
        }
      },
      "execution_count": null,
      "outputs": [
        {
          "output_type": "stream",
          "name": "stdout",
          "text": [
            "23\n",
            "214216\n"
          ]
        }
      ]
    },
    {
      "cell_type": "code",
      "source": [
        "def hailstone(m):\n",
        "  hailstone_sequence = [m]\n",
        "\n",
        "  # Continue processing m until it becomes 1\n",
        "  while m != 1:\n",
        "        # If m is even, divide it by 2\n",
        "        if m % 2 == 0:\n",
        "            m = m // 2\n",
        "        # If m is odd, multiply it by 3 and add 1\n",
        "        else:\n",
        "            m = m * 3 + 1\n",
        "        # Append the current value of m to the hailstone sequence\n",
        "        hailstone_sequence.append(m)\n",
        "\n",
        "  return hailstone_sequence\n",
        "print(hailstone(10))"
      ],
      "metadata": {
        "id": "1PAP8PTWnOoM",
        "colab": {
          "base_uri": "https://localhost:8080/"
        },
        "outputId": "3f33b17f-53a3-49ba-8ff8-928247bab71c"
      },
      "execution_count": 3,
      "outputs": [
        {
          "output_type": "stream",
          "name": "stdout",
          "text": [
            "[10, 5, 16, 8, 4, 2, 1]\n"
          ]
        }
      ]
    },
    {
      "cell_type": "code",
      "source": [
        "def nearest_power_of_two(n: int):\n",
        "  # Initialize the result to 1\n",
        "  result = 1\n",
        "  \n",
        "  # Keep doubling the result until it is greater than or equal to n\n",
        "  while result < n:\n",
        "    result *= 2\n",
        "  \n",
        "  # If the result is exactly equal to n, return it\n",
        "  if result == n:\n",
        "    return result\n",
        "  \n",
        "  # Otherwise, return the result divided by 2 if it is closer to n than the result itself,\n",
        "  # or return the result if it is closer to n than the result divided by 2\n",
        "  return result // 2 if abs(n - result // 2) < abs(n - result) else result\n",
        "\n",
        "print(nearest_power_of_two(8)) \n",
        "print(nearest_power_of_two(11.5))  \n",
        "print(nearest_power_of_two(14))  \n",
        "print(nearest_power_of_two(0.75)) \n",
        "print(nearest_power_of_two(2016))\n",
        "print(nearest_power_of_two(1.5))"
      ],
      "metadata": {
        "id": "eX5Q8zxECtWo",
        "colab": {
          "base_uri": "https://localhost:8080/"
        },
        "outputId": "b144c923-12c4-4903-977b-67c374b2f752"
      },
      "execution_count": null,
      "outputs": [
        {
          "output_type": "stream",
          "name": "stdout",
          "text": [
            "8\n",
            "8\n",
            "16\n",
            "1\n",
            "2048\n",
            "2\n"
          ]
        }
      ]
    },
    {
      "cell_type": "code",
      "source": [
        "def check(m: int) :\n",
        "  proper_divisors = []\n",
        "\n",
        "  # Loop through all possible factors of m, starting with 1 and going up to m // 2\n",
        "  for i in range(1, m // 2 + 1):\n",
        "    # If i is a factor of m, add it to the list of proper divisors\n",
        "    if m % i == 0:\n",
        "      proper_divisors.append(i)\n",
        "  \n",
        "  for i in range(1, m // 2 + 1):\n",
        "    if m % i == 0:\n",
        "      print(f\"{i} * {m // i}\")\n",
        "\n",
        "  # Calculate the sum of the proper divisors of m\n",
        "  sum_of_proper_divisors = sum(proper_divisors)\n",
        "\n",
        "  # Return True if the sum of the proper divisors is greater than m, or False otherwise\n",
        "  return sum_of_proper_divisors > m\n",
        "\n",
        "print(check(12))  \n",
        "print(check(14))  \n",
        "print(check(16)) \n",
        "print(check(20)) \n"
      ],
      "metadata": {
        "id": "jyyYfhI1wOGw",
        "colab": {
          "base_uri": "https://localhost:8080/"
        },
        "outputId": "7571816e-e410-40c1-e8cb-6e43ad426f9c"
      },
      "execution_count": null,
      "outputs": [
        {
          "output_type": "stream",
          "name": "stdout",
          "text": [
            "1 * 12\n",
            "2 * 6\n",
            "3 * 4\n",
            "4 * 3\n",
            "6 * 2\n",
            "True\n",
            "1 * 14\n",
            "2 * 7\n",
            "7 * 2\n",
            "False\n",
            "1 * 16\n",
            "2 * 8\n",
            "4 * 4\n",
            "8 * 2\n",
            "False\n",
            "1 * 20\n",
            "2 * 10\n",
            "4 * 5\n",
            "5 * 4\n",
            "10 * 2\n",
            "True\n"
          ]
        }
      ]
    }
  ]
}