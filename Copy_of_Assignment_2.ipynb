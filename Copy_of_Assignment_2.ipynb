{
  "nbformat": 4,
  "nbformat_minor": 0,
  "metadata": {
    "colab": {
      "provenance": [],
      "collapsed_sections": [],
      "authorship_tag": "ABX9TyMBuSj/3LnMIZtfhxvnmgRk",
      "include_colab_link": true
    },
    "kernelspec": {
      "name": "python3",
      "display_name": "Python 3"
    },
    "language_info": {
      "name": "python"
    }
  },
  "cells": [
    {
      "cell_type": "markdown",
      "metadata": {
        "id": "view-in-github",
        "colab_type": "text"
      },
      "source": [
        "<a href=\"https://colab.research.google.com/github/Swagaat/HW-CS250/blob/main/Copy_of_Assignment_2.ipynb\" target=\"_parent\"><img src=\"https://colab.research.google.com/assets/colab-badge.svg\" alt=\"Open In Colab\"/></a>"
      ]
    },
    {
      "cell_type": "code",
      "execution_count": null,
      "metadata": {
        "id": "mhROzaFxLBoc"
      },
      "outputs": [],
      "source": [
        "def even_odd(n):\n",
        "  if n % 2 == 0:\n",
        "     print(n, \"is even\")\n",
        "  if n % 2 == 1:\n",
        "     print(n, 'is odd')\n",
        "\n",
        "even_odd(11)\n",
        "even_odd(10)"
      ]
    },
    {
      "cell_type": "code",
      "source": [
        "def number(n):  \n",
        "  for i in range(n-1,0,-1):  \n",
        "    if i%2==1:\n",
        "      print(i)\n",
        "number(11)"
      ],
      "metadata": {
        "id": "MlwfWPQSNyy1"
      },
      "execution_count": null,
      "outputs": []
    },
    {
      "cell_type": "code",
      "source": [
        "def foo(n):\n",
        "  add=0\n",
        "  for i in range(1,n+1):\n",
        "   if i%2==1:\n",
        "     add+=i\n",
        "  print(add)\n",
        "foo(7)\n",
        "foo(6)"
      ],
      "metadata": {
        "id": "_fYe9hIaOi6l"
      },
      "execution_count": null,
      "outputs": []
    },
    {
      "cell_type": "code",
      "source": [
        "def numb(n):\n",
        "  add = 0\n",
        "  for i in range(1, n+1):\n",
        "    if i % 2 == 0:\n",
        "      add += i\n",
        "  print(add)\n",
        "numb(6)"
      ],
      "metadata": {
        "id": "RNiQLhdGPU6T"
      },
      "execution_count": null,
      "outputs": []
    },
    {
      "cell_type": "code",
      "source": [
        "def any_positivenum(n):\n",
        "  if n>0 and n % 2 ==0:\n",
        "    for i in range(n,-1,-2):\n",
        "      print(i,end=\" \", )\n",
        "  if n>0 and n % 2 ==1:\n",
        "    for i in range (n,int(n/2),-2):\n",
        "      print(i)\n",
        "any_positivenum(15)\n",
        "any_positivenum(20)"
      ],
      "metadata": {
        "id": "M0QFG7ahPmeN"
      },
      "execution_count": null,
      "outputs": []
    },
    {
      "cell_type": "code",
      "source": [
        "def small2_sum(a,b,c):\n",
        "    if a > b and a > c:\n",
        "        return a*a + c*c\n",
        "    elif b > a and b > c:\n",
        "        return b*b + c*c\n",
        "    elif c > a and c > b:\n",
        "        return a*a + b*b\n",
        "print(small2_sum(1,2,3))\n",
        "small2_sum(1,3,7)"
      ],
      "metadata": {
        "id": "bqG7Xp3FzpkS"
      },
      "execution_count": null,
      "outputs": []
    }
  ]
}