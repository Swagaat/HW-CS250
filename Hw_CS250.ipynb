{
  "nbformat": 4,
  "nbformat_minor": 0,
  "metadata": {
    "colab": {
      "provenance": [],
      "collapsed_sections": [],
      "authorship_tag": "ABX9TyP/B7NV9MHzkvBQfuMKwQoh",
      "include_colab_link": true
    },
    "kernelspec": {
      "name": "python3",
      "display_name": "Python 3"
    },
    "language_info": {
      "name": "python"
    }
  },
  "cells": [
    {
      "cell_type": "markdown",
      "metadata": {
        "id": "view-in-github",
        "colab_type": "text"
      },
      "source": [
        "<a href=\"https://colab.research.google.com/github/Swagaat/HW-CS250/blob/main/Hw_CS250.ipynb\" target=\"_parent\"><img src=\"https://colab.research.google.com/assets/colab-badge.svg\" alt=\"Open In Colab\"/></a>"
      ]
    },
    {
      "cell_type": "code",
      "execution_count": null,
      "metadata": {
        "colab": {
          "base_uri": "https://localhost:8080/"
        },
        "id": "EpUdBuMDIPKY",
        "outputId": "bf54526a-4abb-4aa9-ccc0-5fb7b355cd88"
      },
      "outputs": [
        {
          "output_type": "stream",
          "name": "stdout",
          "text": [
            "Enter a sentence to reverse: Hello , python\n",
            "olleH , nohtyp "
          ]
        }
      ],
      "source": [
        "n=input(\"Enter a sentence to reverse: \")\n",
        "def rev(n):\n",
        "  res=n.split(\" \")\n",
        "  for word in res: \n",
        "   word=word[::-1]\n",
        "   res=\"\".join(word)\n",
        "   print(res, end=\" \")\n",
        "\n",
        "rev(n)"
      ]
    },
    {
      "cell_type": "code",
      "source": [
        "def twoSum(nums, target):\n",
        "        req = {}\n",
        "        for i in range(len(nums)):\n",
        "            if target - nums[i] in req:\n",
        "                return [req[target - nums[i]],i]\n",
        "            else:\n",
        "                req[nums[i]]=i\n",
        "\n",
        "print(twoSum([1,2,3,4],7))"
      ],
      "metadata": {
        "colab": {
          "base_uri": "https://localhost:8080/"
        },
        "id": "0xGBgpQuMkBH",
        "outputId": "17e40c2d-1711-4c1d-e419-e7019bef02c1"
      },
      "execution_count": 1,
      "outputs": [
        {
          "output_type": "stream",
          "name": "stdout",
          "text": [
            "[2, 3]\n"
          ]
        }
      ]
    },
    {
      "cell_type": "code",
      "source": [
        "num = input(\"Enter a number to check palindrome: \")\n",
        "def fun():\n",
        " if num == num[::-1]:\n",
        "    print(\"Yes, its a palindrome\")\n",
        " else:\n",
        "    print(\"No, its not a palindrome\")\n",
        "fun()"
      ],
      "metadata": {
        "colab": {
          "base_uri": "https://localhost:8080/"
        },
        "id": "aLYKeE17NAAX",
        "outputId": "5ce4934b-1219-41ab-9b2b-86463285b082"
      },
      "execution_count": null,
      "outputs": [
        {
          "output_type": "stream",
          "name": "stdout",
          "text": [
            "Enter a number to check palindrome: 121\n",
            "Yes, its a palindrome\n"
          ]
        }
      ]
    },
    {
      "cell_type": "code",
      "source": [
        "def longest_Common_Prefix(str1):\n",
        "    \n",
        "    if not str1:\n",
        "        return \"\"\n",
        "\n",
        "    short = min(str1,key=len)\n",
        "\n",
        "    for i, char in enumerate(short):     #enumerate = mention one by one.\n",
        "        for other in str1:\n",
        "            if other[i] != char:\n",
        "                return short[:i]\n",
        "\n",
        "    return short \n",
        "\n",
        "print(longest_Common_Prefix([\"michael\", 'michelle', \"mitch\"]))"
      ],
      "metadata": {
        "colab": {
          "base_uri": "https://localhost:8080/"
        },
        "id": "6-yrWn0gNI-L",
        "outputId": "dff7ea3f-1a28-4aa1-befd-75fb4ac0321b"
      },
      "execution_count": null,
      "outputs": [
        {
          "output_type": "stream",
          "name": "stdout",
          "text": [
            "mi\n"
          ]
        }
      ]
    },
    {
      "cell_type": "code",
      "source": [
        "import math\n",
        "def value():\n",
        " print('The actual value of pi = ', math.pi)\n",
        "k = 1 # denominator\n",
        "pi = 0 \n",
        "n = int(input('Enter any Number:'))\n",
        "for num in range(n):    # all even places value fraction are positive\n",
        "    if num%2 == 0:\n",
        "        pi += (4/k)\n",
        "    else:               # all odd places value fraction are negative\n",
        "        pi -= (4/k)\n",
        "    k += 2\n",
        "value()\n",
        "print(\"The value of pi for given number = \", pi)\n",
        "print('The diff.btw actual val & gvn num = ', math.pi - pi)"
      ],
      "metadata": {
        "colab": {
          "base_uri": "https://localhost:8080/"
        },
        "id": "ZtaRmloJNMj_",
        "outputId": "b5822051-3193-4957-92be-0dd61b05b906"
      },
      "execution_count": 5,
      "outputs": [
        {
          "output_type": "stream",
          "name": "stdout",
          "text": [
            "Enter any Number:4\n",
            "The actual value of pi =  3.141592653589793\n",
            "The value of pi for given number =  2.8952380952380956\n",
            "The diff.btw actual val & gvn num =  0.2463545583516975\n"
          ]
        }
      ]
    },
    {
      "cell_type": "code",
      "source": [
        "import math\n",
        "def newton_method(x,step):\n",
        "    p=1\n",
        "    guess = x/2\n",
        "    while p <= step:\n",
        "        guess = (guess + (x/guess)) / 2\n",
        "        p+=1\n",
        "    return guess\n",
        "value = newton_method(16, 4)\n",
        "print (value,'\\nThe required difference between them is : ', value - (math.sqrt(10)))"
      ],
      "metadata": {
        "colab": {
          "base_uri": "https://localhost:8080/"
        },
        "id": "8WmRCFivNheR",
        "outputId": "7f7f80fb-646f-470b-a8aa-62029f76784a"
      },
      "execution_count": null,
      "outputs": [
        {
          "output_type": "stream",
          "name": "stdout",
          "text": [
            "4.0000001858445895 \n",
            "The required difference between them is :  0.83772252567621\n"
          ]
        }
      ]
    }
  ]
}